{
 "cells": [
  {
   "cell_type": "markdown",
   "metadata": {},
   "source": [
    "### PROPOSIÇÕES, REPRESENTAÇÕES SIMBÓLICAS E TAUTOLOGIAS"
   ]
  },
  {
   "cell_type": "markdown",
   "metadata": {},
   "source": [
    "A lógica formal pode representar as afirmações que fazemos em linguagem cotidiana para apresentar fatos ou transmitir informações. Uma **proposição** (ou **declaração**) é uma sentença que é falsa ou verdadeira.\n",
    "\n",
    "A expressão ``A ∧ B`` é chamada a conjunção de A e B; A e B são denominados os elementos, ou fatores, dessa expressão. A Tabela 1.1 apresenta os valores lógicos de A ∧ B para todos os valores lógicos possíveis dos elementos A e B. Cada linha da tabela representa uma atribuição`específica de valor lógico a cada uma das letras de proposição e o valor lógico resultante da expressão composta.\n",
    "image.png\n"
   ]
  },
  {
   "cell_type": "markdown",
   "metadata": {},
   "source": []
  }
 ],
 "metadata": {
  "language_info": {
   "name": "python"
  },
  "orig_nbformat": 4
 },
 "nbformat": 4,
 "nbformat_minor": 2
}
